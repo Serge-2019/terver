{
 "cells": [
  {
   "cell_type": "code",
   "execution_count": 1,
   "metadata": {
    "colab": {},
    "colab_type": "code",
    "id": "Og2fZ_bgYo6r"
   },
   "outputs": [],
   "source": [
    "import numpy as np"
   ]
  },
  {
   "cell_type": "markdown",
   "metadata": {
    "colab_type": "text",
    "id": "vGvPz-PJYo5C"
   },
   "source": [
    "# Курсовой проект\n",
    "\n",
    "Для данных рейтингов по разным жанрам с сайта IMDB провести исследовательский анализ:\n",
    "* Отобразить данные с помощью боксплота по каждому жанру, построить рядом для наглядности.\n",
    "* Протестировать, влияет ли жанр на рейтинг. \n",
    "* С помощью линейной регрессии построить модель, и описать как рейтинг (величина у) зависит от различных переменных (хотя бы 2 взять).\n",
    "* Предварительно провести корреляционный анализ и проверить данные на нормальность."
   ]
  },
  {
   "cell_type": "code",
   "execution_count": null,
   "metadata": {},
   "outputs": [],
   "source": []
  }
 ],
 "metadata": {
  "colab": {
   "collapsed_sections": [],
   "name": "Матстат - Урок 8.ipynb",
   "provenance": [],
   "version": "0.3.2"
  },
  "kernelspec": {
   "display_name": "Python 3",
   "language": "python",
   "name": "python3"
  },
  "language_info": {
   "codemirror_mode": {
    "name": "ipython",
    "version": 3
   },
   "file_extension": ".py",
   "mimetype": "text/x-python",
   "name": "python",
   "nbconvert_exporter": "python",
   "pygments_lexer": "ipython3",
   "version": "3.7.1"
  }
 },
 "nbformat": 4,
 "nbformat_minor": 1
}
