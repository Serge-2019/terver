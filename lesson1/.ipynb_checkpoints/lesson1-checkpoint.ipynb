{
 "cells": [
  {
   "cell_type": "code",
   "execution_count": 4,
   "metadata": {},
   "outputs": [],
   "source": [
    "from math import factorial\n",
    "def combinations(n, k):\n",
    "    return int(factorial(n) / (factorial(k) * factorial(n - k)))"
   ]
  },
  {
   "cell_type": "markdown",
   "metadata": {},
   "source": [
    "#### 1) Из колоды в 52 карты извлекаются случайным образом 4 карты. "
   ]
  },
  {
   "cell_type": "code",
   "execution_count": 27,
   "metadata": {},
   "outputs": [],
   "source": [
    "coloda = 52\n",
    "cards = 4\n",
    "\n",
    "total = combinations(coloda, cards) # общее число возможных исходов"
   ]
  },
  {
   "cell_type": "markdown",
   "metadata": {},
   "source": [
    "* a) Найти вероятность того, что все карты – крести. "
   ]
  },
  {
   "cell_type": "code",
   "execution_count": 37,
   "metadata": {},
   "outputs": [
    {
     "name": "stdout",
     "output_type": "stream",
     "text": [
      "Вероятность того, что все карты – крести = 0.0026411\n"
     ]
    }
   ],
   "source": [
    "cnt = cards # все вытянутые карты крести\n",
    "crs = combinations(13, cnt) # количество всех \"крести\" в колоде = 52 / 4 = 13 штук, находим все сочетания\n",
    "coth = combinations(coloda - 13, cards - cnt) # возможные сочетания других карт из колоды\n",
    "\n",
    "success = crs * coth # итого благоприятствующих исходов\n",
    "print(f\"Вероятность того, что все карты – крести = {success/total:0.5}\")"
   ]
  },
  {
   "cell_type": "markdown",
   "metadata": {},
   "source": [
    "* б) Найти вероятность, что среди 4-х карт окажется хотя бы один туз."
   ]
  },
  {
   "cell_type": "code",
   "execution_count": 28,
   "metadata": {},
   "outputs": [
    {
     "name": "stdout",
     "output_type": "stream",
     "text": [
      "Вероятность, что среди 4-х карт окажется хотя бы один туз = 0.25555\n"
     ]
    }
   ],
   "source": [
    "cnt = 1 # один туз\n",
    "ctuz = combinations(4, cnt) # возможные сочетания тузов для одного туза\n",
    "coth = combinations(coloda - 4, cards - cnt) # возможные сочетания других карт из колоды\n",
    "\n",
    "success = ctuz * coth # итого благоприятствующих исходов\n",
    "\n",
    "print(f\"Вероятность, что среди 4-х карт окажется хотя бы один туз = {success/total:0.5}\")"
   ]
  },
  {
   "cell_type": "markdown",
   "metadata": {},
   "source": [
    "#### 2) На входной двери подъезда установлен кодовый замок, содержащий десять кнопок с цифрами от 0 до 9. Код содержит три цифры, которые нужно нажать одновременно. Какова вероятность того, что человек, не знающий код, откроет дверь с первой попытки?"
   ]
  },
  {
   "cell_type": "code",
   "execution_count": 41,
   "metadata": {},
   "outputs": [
    {
     "data": {
      "text/plain": [
       "0.008333333333333333"
      ]
     },
     "execution_count": 41,
     "metadata": {},
     "output_type": "execute_result"
    }
   ],
   "source": [
    "total = combinations(10, 3) # так как нажать нужно одновременно то порядок не важен, найдем все возможные сочетания\n",
    "\n",
    "# положительный исход здесь только один и только одна попытка поэтому вероятность будет равна\n",
    "\n",
    "1/total"
   ]
  },
  {
   "cell_type": "markdown",
   "metadata": {},
   "source": [
    "#### 3) В ящике имеется 15 деталей, из которых 9 окрашены. Рабочий случайным образом извлекает 3 детали. Какова вероятность того, что все извлеченные детали окрашены?"
   ]
  },
  {
   "cell_type": "code",
   "execution_count": 44,
   "metadata": {},
   "outputs": [
    {
     "name": "stdout",
     "output_type": "stream",
     "text": [
      "Вероятность того, что все извлеченные детали окрашены = 0.18462\n"
     ]
    }
   ],
   "source": [
    "box = 15 # всего деталей\n",
    "pnt = 9 # окрашенных деталей\n",
    "cnt = 3 # вынимаем 3 детали\n",
    "\n",
    "ccnt = combinations(box, cnt) # сочетания вариантов как можно вынуть 3 детали из 15 (всех)\n",
    "cpnt = combinations(pnt, cnt) # сочетания вариантов как можно вынуть 3 детали из 9 (покрашенных)\n",
    "\n",
    "print(f'Вероятность того, что все извлеченные детали окрашены = {cpnt/ccnt:0.5}')"
   ]
  },
  {
   "cell_type": "markdown",
   "metadata": {},
   "source": [
    "#### 4) В лотерее 100 билетов. Из них 2 выигрышных. Какова вероятность того, что 2 приобретенных билета окажутся выигрышными?"
   ]
  },
  {
   "cell_type": "code",
   "execution_count": 48,
   "metadata": {},
   "outputs": [
    {
     "name": "stdout",
     "output_type": "stream",
     "text": [
      "Вероятность того, что 2 приобретенных билета окажутся выигрышными = 0.00020202\n"
     ]
    }
   ],
   "source": [
    "bil = 100 # всего билетов N\n",
    "win = 2 # выигрышных всего K\n",
    "buy = 2 # куплено n\n",
    "wbuy = 2 # выигрышных из купленных k\n",
    "\n",
    "ctot = combinations(bil, buy) # сочетания для любых 2 купленных билетов\n",
    "cwin = combinations(win, wbuy) # сочетания купленных выигрышных из возможных выигрышных\n",
    "clos = combinations(bil-win, buy-wbuy) # сочетания невыигрышных билетов\n",
    "\n",
    "P = cwin * clos / ctot # благоприятствующие исходы на общее число исходов испытания\n",
    "print(f'Вероятность того, что 2 приобретенных билета окажутся выигрышными = {P:0.5}')"
   ]
  }
 ],
 "metadata": {
  "kernelspec": {
   "display_name": "Python 3",
   "language": "python",
   "name": "python3"
  },
  "language_info": {
   "codemirror_mode": {
    "name": "ipython",
    "version": 3
   },
   "file_extension": ".py",
   "mimetype": "text/x-python",
   "name": "python",
   "nbconvert_exporter": "python",
   "pygments_lexer": "ipython3",
   "version": "3.7.1"
  }
 },
 "nbformat": 4,
 "nbformat_minor": 2
}
