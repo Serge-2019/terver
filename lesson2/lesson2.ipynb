{
 "cells": [
  {
   "cell_type": "code",
   "execution_count": 1,
   "metadata": {},
   "outputs": [],
   "source": [
    "from math import factorial\n",
    "def combinations(n, k):\n",
    "    return int(factorial(n) / (factorial(k) * factorial(n - k)))"
   ]
  },
  {
   "cell_type": "markdown",
   "metadata": {},
   "source": [
    "#### 1. Вероятность того, что стрелок попадет в мишень, выстрелив один раз, равна 0.8. Стрелок выстрелил 100 раз. Найдите вероятность того, что стрелок попадет в цель ровно 85 раз."
   ]
  },
  {
   "cell_type": "code",
   "execution_count": 11,
   "metadata": {},
   "outputs": [
    {
     "name": "stdout",
     "output_type": "stream",
     "text": [
      "Вероятность того, что стрелок попадет в цель ровно 85 раз = 0.048062\n"
     ]
    }
   ],
   "source": [
    "def bernuli(n, k, p):\n",
    "    q = 1-p\n",
    "    return combinations(n, k) * p**k * q**(n-k)\n",
    "\n",
    "print(f'Вероятность того, что стрелок попадет в цель ровно 85 раз = {bernuli(100, 85, 0.8):0.5}')"
   ]
  },
  {
   "cell_type": "markdown",
   "metadata": {},
   "source": [
    "#### 2. Вероятность того, что лампочка перегорит в течение первого дня эксплуатации, равна 0.0004. В жилом комплексе после ремонта в один день включили 5000 новых лампочек. \n",
    "* Какова вероятность, что ни одна из них не перегорит в первый день? "
   ]
  },
  {
   "cell_type": "code",
   "execution_count": 15,
   "metadata": {},
   "outputs": [
    {
     "name": "stdout",
     "output_type": "stream",
     "text": [
      "Вероятность, что ни одна из них не перегорит в первый день = 0.13528\n"
     ]
    }
   ],
   "source": [
    "print(f'Вероятность, что ни одна из них не перегорит в первый день = {bernuli(5000, 0, 0.0004):0.5}')"
   ]
  },
  {
   "cell_type": "markdown",
   "metadata": {},
   "source": [
    "* Какова вероятность, что перегорят ровно две?"
   ]
  },
  {
   "cell_type": "code",
   "execution_count": 23,
   "metadata": {},
   "outputs": [
    {
     "name": "stdout",
     "output_type": "stream",
     "text": [
      "Вероятность, что перегорят ровно две = 0.27072\n"
     ]
    }
   ],
   "source": [
    "print(f'Вероятность, что перегорят ровно две = {bernuli(5000, 2, 0.0004):0.5}')"
   ]
  },
  {
   "cell_type": "markdown",
   "metadata": {},
   "source": [
    "#### 3. Монету подбросили 144 раза. Какова вероятность, что орел выпадет ровно 70 раз?"
   ]
  },
  {
   "cell_type": "code",
   "execution_count": 25,
   "metadata": {},
   "outputs": [
    {
     "name": "stdout",
     "output_type": "stream",
     "text": [
      "Вероятность, что орел выпадет ровно 70 раз = 0.062812\n"
     ]
    }
   ],
   "source": [
    "print(f'Вероятность, что орел выпадет ровно 70 раз = {bernuli(144, 70, 1/2):0.5}')"
   ]
  },
  {
   "cell_type": "markdown",
   "metadata": {},
   "source": [
    "#### 4. В первом ящике находится 10 мячей, из которых 7 - белые. Во втором ящике - 11 мячей, из которых 9 белых. Из каждого ящика вытаскивают случайным образом по два мяча. "
   ]
  },
  {
   "cell_type": "code",
   "execution_count": 32,
   "metadata": {},
   "outputs": [],
   "source": [
    "box1 = 10\n",
    "box1w = 7\n",
    "box1n = box1 - box1w # небелые\n",
    "box2 = 11\n",
    "box2w = 9\n",
    "box2n = box2 - box2w # небелые\n",
    "get = 2\n",
    "\n",
    "C1 = combinations(box1, get) # все возможные сочетания для первого ящика\n",
    "C2 = combinations(box2, get) # все возможные сочетания для второго ящика"
   ]
  },
  {
   "cell_type": "markdown",
   "metadata": {},
   "source": [
    "* Какова вероятность того, что все мячи белые? "
   ]
  },
  {
   "cell_type": "code",
   "execution_count": 34,
   "metadata": {},
   "outputs": [
    {
     "name": "stdout",
     "output_type": "stream",
     "text": [
      "Вероятность того, что все мячи белые = 0.30545\n"
     ]
    }
   ],
   "source": [
    "C1w = combinations(box1w, get) # возможные сочетания вынуть белые мячи из первого ящика\n",
    "C2w = combinations(box2w, get) # возможные сочетания вынуть белые мячи из второго ящика\n",
    "\n",
    "\n",
    "P = (C1w / C1) * (C2w / C2)\n",
    "print(f'Вероятность того, что все мячи белые = {P:0.5}')"
   ]
  },
  {
   "cell_type": "markdown",
   "metadata": {},
   "source": [
    "* Какова вероятность того, что ровно два мяча белые? "
   ]
  },
  {
   "cell_type": "code",
   "execution_count": 35,
   "metadata": {},
   "outputs": [
    {
     "name": "stdout",
     "output_type": "stream",
     "text": [
      "Вероятность того, что ровно два мяча белые = 0.20485\n"
     ]
    }
   ],
   "source": [
    "\"\"\" \n",
    "возможные вариации:\n",
    "\n",
    "№ | первый яшик | второй яшик |\n",
    "1 | 0 белых     | 2 белых    |\n",
    "2 | 1 белых     | 1 белых    |\n",
    "3 | 2 белых     | 0 белых    |\n",
    "\"\"\"\n",
    "\n",
    "\n",
    "P11 = combinations(box1w, 0) * combinations(box1n, 2) / C1 # вариация 1 для первого ящика\n",
    "P12 = combinations(box2w, 2) * combinations(box2n, 0) / C2 # вариация 1 для второго ящика\n",
    "\n",
    "P21 = combinations(box1w, 1) * combinations(box1n, 1) / C1 # вариация 2 для первого ящика\n",
    "P22 = combinations(box2w, 1) * combinations(box2n, 1) / C2 # вариация 2 для второго ящика\n",
    "\n",
    "P31 = combinations(box1w, 2) * combinations(box1n, 0) / C1 # вариация 3 для первого ящика\n",
    "P32 = combinations(box2w, 0) * combinations(box2n, 2) / C2 # вариация 3 для второго ящика\n",
    "\n",
    "\n",
    "P = P11*P12 + P21*P22 + P31*P32 \n",
    "print(f'Вероятность того, что ровно два мяча белые = {P:0.5}')"
   ]
  },
  {
   "cell_type": "markdown",
   "metadata": {},
   "source": [
    "* Какова вероятность того, что хотя бы один мяч белый?"
   ]
  },
  {
   "cell_type": "code",
   "execution_count": 38,
   "metadata": {},
   "outputs": [
    {
     "name": "stdout",
     "output_type": "stream",
     "text": [
      "Вероятность того, что хотя бы один мяч белый = 0.99879\n"
     ]
    }
   ],
   "source": [
    "C1n = combinations(box1n, get) # возможные сочетания вынуть НЕбелые мячи из первого ящика\n",
    "C2n = combinations(box2n, get) # возможные сочетания вынуть НЕбелые мячи из второго ящика\n",
    "\n",
    "Pn = (C1n / C1) * (C2n / C2)\n",
    "print(f'Вероятность того, что хотя бы один мяч белый = {(1-Pn):0.5}') # 1 - НеБелые"
   ]
  }
 ],
 "metadata": {
  "kernelspec": {
   "display_name": "Python 3",
   "language": "python",
   "name": "python3"
  },
  "language_info": {
   "codemirror_mode": {
    "name": "ipython",
    "version": 3
   },
   "file_extension": ".py",
   "mimetype": "text/x-python",
   "name": "python",
   "nbconvert_exporter": "python",
   "pygments_lexer": "ipython3",
   "version": "3.7.1"
  }
 },
 "nbformat": 4,
 "nbformat_minor": 2
}
