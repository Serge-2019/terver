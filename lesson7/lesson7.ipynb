{
 "cells": [
  {
   "cell_type": "code",
   "execution_count": 1,
   "metadata": {},
   "outputs": [],
   "source": [
    "from math import sqrt\n",
    "import numpy as np\n",
    "import pandas as pd\n",
    "import matplotlib.pyplot as plt\n",
    "%matplotlib inline"
   ]
  },
  {
   "cell_type": "markdown",
   "metadata": {},
   "source": [
    "#### 1. Даны значения величины заработной платы заемщиков банка (zp) и значения их поведенческого кредитного скоринга (ks):\n",
    "\n",
    "```\n",
    "zp = [35, 45, 190, 200, 40, 70, 54, 150, 120, 110]\n",
    "ks = [401, 574, 874, 919, 459, 739, 653, 902, 746, 832]\n",
    "```\n",
    "* Используя математические операции, посчитать коэффициенты линейной регрессии, приняв за X заработную плату (то есть, zp - признак), а за y - значения скорингового балла (то есть, ks - целевая переменная). \n",
    "* Произвести расчет как с использованием intercept, так и без."
   ]
  },
  {
   "cell_type": "code",
   "execution_count": 120,
   "metadata": {},
   "outputs": [
    {
     "name": "stdout",
     "output_type": "stream",
     "text": [
      "Уравнение имеет вид Y = 444.18 + 2.6205 * x\n"
     ]
    },
    {
     "data": {
      "image/png": "[encoded data removed]",
      "text/plain": [
       "<Figure size 432x288 with 1 Axes>"
      ]
     },
     "metadata": {
      "needs_background": "light"
     },
     "output_type": "display_data"
    }
   ],
   "source": [
    "X = np.array([35, 45, 190, 200, 40, 70, 54, 150, 120, 110])\n",
    "y = np.array([401, 574, 874, 919, 459, 739, 653, 902, 746, 832])\n",
    "n = len(X)\n",
    "\n",
    "# 1ый способ\n",
    "b = (np.mean(X * y) - np.mean(X) * np.mean(y)) / (np.mean(X**2) - np.mean(X)**2)\n",
    "a = np.mean(y) - b * np.mean(X)\n",
    "\n",
    "Y = a + b * X # построенная регрессия \n",
    "print(f'Уравнение имеет вид Y = {a:0.5} + {b:0.5} * x')\n",
    "\n",
    "\n",
    "plt.scatter(X, y)\n",
    "plt.plot(X, Y, color=\"green\")\n",
    "plt.xlabel('ЗП')\n",
    "plt.ylabel('Скоринг')\n",
    "plt.show()"
   ]
  },
  {
   "cell_type": "code",
   "execution_count": 69,
   "metadata": {},
   "outputs": [
    {
     "name": "stdout",
     "output_type": "stream",
     "text": [
      "Средне квадратичная ошибка = 6470.4\n",
      "Коэффициент корреляции = 0.88749\n",
      "Коэффициент детерминации = 0.78764\n",
      "Средняя ошибка аппроксимации = 11.469\n",
      "Так как 𝐹факт=29.672 > 𝐹табл=5.32, уравнение регрессии статистически значимо на уровне значимости 0.05\n"
     ]
    }
   ],
   "source": [
    "mse = ((y - Y)**2).sum()/n # средне квадратичная ошибка\n",
    "r = b * np.std(X) / np.std(y) # коэффициент корреляции\n",
    "R = r**2 # коэффициент детерминации\n",
    "A = 100 * np.mean(np.abs((y - Y) / y)) # средняя ошибка аппроксимации\n",
    "\n",
    "print(f'Средне квадратичная ошибка = {mse:0.5}')\n",
    "print(f'Коэффициент корреляции = {r:0.5}')\n",
    "print(f'Коэффициент детерминации = {R:0.5}')\n",
    "print(f'Средняя ошибка аппроксимации = {A:0.5}')\n",
    "\n",
    "F_fact = (r**2 * (n - 2)) / (1 - r**2) # фактическое значение критерия Фишера\n",
    "F_tabl = 5.32 # При 5% уровне значимости и степенях свободы 𝑘1 = 1  и  𝑘2 = 10−2=8  табличное значение критерия: 𝐹кр = 5.32\n",
    "\n",
    "if F_fact > F_tabl:\n",
    "    print(f'Так как 𝐹факт={F_fact:0.5} > 𝐹табл={F_tabl:0.5}, уравнение регрессии статистически значимо на уровне значимости 0.05')"
   ]
  },
  {
   "cell_type": "markdown",
   "metadata": {},
   "source": [
    "**не совсем понял а как считать без intercept - может быть так?**"
   ]
  },
  {
   "cell_type": "code",
   "execution_count": 71,
   "metadata": {},
   "outputs": [
    {
     "data": {
      "image/png": "[encoded data removed]",
      "text/plain": [
       "<Figure size 432x288 with 1 Axes>"
      ]
     },
     "metadata": {
      "needs_background": "light"
     },
     "output_type": "display_data"
    }
   ],
   "source": [
    "x2 = X.reshape((n, 1))\n",
    "b2 = np.dot(np.linalg.inv(x2.T @ x2), x2.T @ y1)[0][0]\n",
    "Y2 = b2 * X\n",
    "\n",
    "plt.scatter(X, y)\n",
    "plt.plot(X, Y, color=\"green\")\n",
    "plt.plot(X, Y2, color=\"brown\")\n",
    "plt.xlabel('ЗП')\n",
    "plt.ylabel('Скоринг')\n",
    "plt.show()"
   ]
  },
  {
   "cell_type": "markdown",
   "metadata": {},
   "source": [
    "#### 2. Посчитать коэффициент линейной регрессии при заработной плате (zp), используя градиентный спуск (без intercept)."
   ]
  },
  {
   "cell_type": "code",
   "execution_count": 117,
   "metadata": {},
   "outputs": [
    {
     "name": "stdout",
     "output_type": "stream",
     "text": [
      "Iteration # 951   B1= 5.8898204  mse=56516.85842\n",
      "Iteration # 952   B1= 5.8898204  mse=56516.85842\n",
      "Iteration # 953   B1= 5.8898204  mse=56516.85842\n",
      "Iteration # 954   B1= 5.8898204  mse=56516.85842\n",
      "Iteration # 955   B1= 5.8898204  mse=56516.85842\n",
      "Iteration # 956   B1= 5.8898204  mse=56516.85842\n",
      "Iteration # 957   B1= 5.8898204  mse=56516.85842\n",
      "Iteration # 958   B1= 5.8898204  mse=56516.85842\n",
      "Iteration # 959   B1= 5.8898204  mse=56516.85842\n",
      "Iteration # 960   B1= 5.8898204  mse=56516.85842\n",
      "Iteration # 961   B1= 5.8898204  mse=56516.85842\n",
      "Iteration # 962   B1= 5.8898204  mse=56516.85842\n",
      "Iteration # 963   B1= 5.8898204  mse=56516.85842\n",
      "Iteration # 964   B1= 5.8898204  mse=56516.85842\n",
      "Iteration # 965   B1= 5.8898204  mse=56516.85842\n",
      "Iteration # 966   B1= 5.8898204  mse=56516.85842\n",
      "Iteration # 967   B1= 5.8898204  mse=56516.85842\n",
      "Iteration # 968   B1= 5.8898204  mse=56516.85842\n",
      "Iteration # 969   B1= 5.8898204  mse=56516.85842\n",
      "Iteration # 970   B1= 5.8898204  mse=56516.85842\n",
      "Iteration # 971   B1= 5.8898204  mse=56516.85842\n",
      "Iteration # 972   B1= 5.8898204  mse=56516.85842\n",
      "Iteration # 973   B1= 5.8898204  mse=56516.85842\n",
      "Iteration # 974   B1= 5.8898204  mse=56516.85842\n",
      "Iteration # 975   B1= 5.8898204  mse=56516.85842\n",
      "Iteration # 976   B1= 5.8898204  mse=56516.85842\n",
      "Iteration # 977   B1= 5.8898204  mse=56516.85842\n",
      "Iteration # 978   B1= 5.8898204  mse=56516.85842\n",
      "Iteration # 979   B1= 5.8898204  mse=56516.85842\n",
      "Iteration # 980   B1= 5.8898204  mse=56516.85842\n",
      "Iteration # 981   B1= 5.8898204  mse=56516.85842\n",
      "Iteration # 982   B1= 5.8898204  mse=56516.85842\n",
      "Iteration # 983   B1= 5.8898204  mse=56516.85842\n",
      "Iteration # 984   B1= 5.8898204  mse=56516.85842\n",
      "Iteration # 985   B1= 5.8898204  mse=56516.85842\n",
      "Iteration # 986   B1= 5.8898204  mse=56516.85842\n",
      "Iteration # 987   B1= 5.8898204  mse=56516.85842\n",
      "Iteration # 988   B1= 5.8898204  mse=56516.85842\n",
      "Iteration # 989   B1= 5.8898204  mse=56516.85842\n",
      "Iteration # 990   B1= 5.8898204  mse=56516.85842\n",
      "Iteration # 991   B1= 5.8898204  mse=56516.85842\n",
      "Iteration # 992   B1= 5.8898204  mse=56516.85842\n",
      "Iteration # 993   B1= 5.8898204  mse=56516.85842\n",
      "Iteration # 994   B1= 5.8898204  mse=56516.85842\n",
      "Iteration # 995   B1= 5.8898204  mse=56516.85842\n",
      "Iteration # 996   B1= 5.8898204  mse=56516.85842\n",
      "Iteration # 997   B1= 5.8898204  mse=56516.85842\n",
      "Iteration # 998   B1= 5.8898204  mse=56516.85842\n",
      "Iteration # 999   B1= 5.8898204  mse=56516.85842\n"
     ]
    }
   ],
   "source": [
    "def mse_(B1):\n",
    "    return np.sum((B1*X - y)**2)/n\n",
    "\n",
    "alp = 1e-6\n",
    "B1 = 0.1\n",
    "k = 1000\n",
    "for i in range(1000):\n",
    "    B1 -= alp * (2/n) * np.sum((B1*X - y) * X)\n",
    "    if i > (k-50):\n",
    "        print(f'Iteration # {i:<5} B1= {B1:<10.8} mse={mse_(B1):5.10}')"
   ]
  },
  {
   "cell_type": "markdown",
   "metadata": {},
   "source": [
    "#### 3. В каких случаях для вычисления доверительных интервалов и проверки статистических гипотез используется таблица значений функции Лапласа, а в каких - таблица критических точек распределения Стьюдента?\n",
    "\n",
    "\n",
    "* При **неизвестной** дисперсии (или среднеквадратического отклонения) для вычисления доверительных интервалов и проверки статистических гипотез используется таблица критических точек распределения **Стьюдента**\n",
    "\n",
    "* Если **известна** дисперсия (или среднеквадратическое отклонение) то для вычисления доверительных интервалов и проверки статистических гипотез используется таблица значений функции **Лапласа**"
   ]
  },
  {
   "cell_type": "markdown",
   "metadata": {},
   "source": [
    "#### 4. Произвести вычисления как в пункте 2, но с вычислением intercept. Учесть, что изменение коэффициентов должно производиться на каждом шаге одновременно (то есть изменение одного коэффициента не должно влиять на изменение другого во время одной итерации)."
   ]
  },
  {
   "cell_type": "code",
   "execution_count": 119,
   "metadata": {},
   "outputs": [
    {
     "name": "stdout",
     "output_type": "stream",
     "text": [
      "Iteration # 0     B0= 0.1        B1= 0.1        mse=518196.384\n",
      "Iteration # 1     B0= 0.1139932  B1= 1.6950496  mse=298808.6692\n",
      "Iteration # 2     B0= 0.12475136 B1= 2.8505902  mse=183665.2262\n",
      "Iteration # 3     B0= 0.13316587 B1= 3.6877253  mse=123233.2007\n",
      "Iteration # 4     B0= 0.1398825  B1= 4.2941893  mse=91515.8469\n",
      "Iteration # 5     B0= 0.14536908 B1= 4.7335419  mse=74869.07115\n",
      "Iteration # 6     B0= 0.14996455 B1= 5.0518295  mse=66131.92591\n",
      "Iteration # 7     B0= 0.15391444 B1= 5.2824107  mse=61546.06808\n",
      "Iteration # 8     B0= 0.15739664 B1= 5.4494523  mse=59138.97251\n",
      "Iteration # 9     B0= 0.16054    B1= 5.5704622  mse=57875.38043\n",
      "Iteration # 10    B0= 0.16343789 B1= 5.6581242  mse=57211.94689\n",
      "Iteration # 11    B0= 0.16615795 B1= 5.7216269  mse=56863.50252\n",
      "Iteration # 12    B0= 0.16874916 B1= 5.7676274  mse=56680.37872\n",
      "Iteration # 13    B0= 0.17124704 B1= 5.8009482  mse=56584.02306\n",
      "Iteration # 14    B0= 0.17367729 B1= 5.8250831  mse=56533.2078\n",
      "Iteration # 15    B0= 0.17605855 B1= 5.8425633  mse=56506.29472\n",
      "Iteration # 16    B0= 0.17840431 B1= 5.8552223  mse=56491.92703\n",
      "Iteration # 17    B0= 0.18072435 B1= 5.8643887  mse=56484.14408\n",
      "Iteration # 18    B0= 0.18302576 B1= 5.8710248  mse=56479.81738\n",
      "Iteration # 19    B0= 0.18531366 B1= 5.8758278  mse=56477.30487\n",
      "Iteration # 20    B0= 0.18759177 B1= 5.8793028  mse=56475.7447\n",
      "Iteration # 21    B0= 0.1898628  B1= 5.8818157  mse=56474.68448\n",
      "Iteration # 22    B0= 0.19212868 B1= 5.8836316  mse=56473.88673\n",
      "Iteration # 23    B0= 0.19439083 B1= 5.8849426  mse=56473.22681\n",
      "Iteration # 24    B0= 0.19665028 B1= 5.8858878  mse=56472.63927\n",
      "Iteration # 25    B0= 0.19890776 B1= 5.886568   mse=56472.08976\n",
      "Iteration # 26    B0= 0.20116383 B1= 5.8870562  mse=56471.56024\n",
      "Iteration # 27    B0= 0.20341885 B1= 5.8874053  mse=56471.04122\n",
      "Iteration # 28    B0= 0.20567313 B1= 5.8876536  mse=56470.52773\n",
      "Iteration # 29    B0= 0.20792685 B1= 5.887829   mse=56470.01716\n",
      "Iteration # 30    B0= 0.21018018 B1= 5.8879514  mse=56469.50812\n",
      "Iteration # 31    B0= 0.21243321 B1= 5.8880356  mse=56468.9999\n",
      "Iteration # 32    B0= 0.21468602 B1= 5.888092   mse=56468.49211\n",
      "Iteration # 33    B0= 0.21693868 B1= 5.8881283  mse=56467.98456\n",
      "Iteration # 34    B0= 0.21919121 B1= 5.88815    mse=56467.47713\n",
      "Iteration # 35    B0= 0.22144366 B1= 5.8881612  mse=56466.96977\n",
      "Iteration # 36    B0= 0.22369604 B1= 5.8881647  mse=56466.46246\n",
      "Iteration # 37    B0= 0.22594837 B1= 5.8881627  mse=56465.95516\n",
      "Iteration # 38    B0= 0.22820066 B1= 5.8881566  mse=56465.44788\n",
      "Iteration # 39    B0= 0.23045291 B1= 5.8881477  mse=56464.94062\n",
      "Iteration # 40    B0= 0.23270514 B1= 5.8881367  mse=56464.43336\n",
      "Iteration # 41    B0= 0.23495734 B1= 5.8881241  mse=56463.92611\n",
      "Iteration # 42    B0= 0.23720953 B1= 5.8881104  mse=56463.41886\n",
      "Iteration # 43    B0= 0.2394617  B1= 5.888096   mse=56462.91162\n",
      "Iteration # 44    B0= 0.24171385 B1= 5.8880809  mse=56462.40439\n",
      "Iteration # 45    B0= 0.24396599 B1= 5.8880654  mse=56461.89716\n",
      "Iteration # 46    B0= 0.24621811 B1= 5.8880497  mse=56461.38994\n",
      "Iteration # 47    B0= 0.24847022 B1= 5.8880337  mse=56460.88272\n",
      "Iteration # 48    B0= 0.25072232 B1= 5.8880175  mse=56460.37551\n",
      "Iteration # 49    B0= 0.25297441 B1= 5.8880012  mse=56459.8683\n",
      "Iteration # 999951 B0= 441.39573  B1= 2.6410127  mse=6472.376914\n",
      "Iteration # 999952 B0= 441.39575  B1= 2.6410126  mse=6472.376894\n",
      "Iteration # 999953 B0= 441.39576  B1= 2.6410125  mse=6472.376874\n",
      "Iteration # 999954 B0= 441.39578  B1= 2.6410124  mse=6472.376854\n",
      "Iteration # 999955 B0= 441.39579  B1= 2.6410123  mse=6472.376834\n",
      "Iteration # 999956 B0= 441.39581  B1= 2.6410122  mse=6472.376814\n",
      "Iteration # 999957 B0= 441.39582  B1= 2.6410121  mse=6472.376795\n",
      "Iteration # 999958 B0= 441.39583  B1= 2.641012   mse=6472.376775\n",
      "Iteration # 999959 B0= 441.39585  B1= 2.6410119  mse=6472.376755\n",
      "Iteration # 999960 B0= 441.39586  B1= 2.6410118  mse=6472.376735\n",
      "Iteration # 999961 B0= 441.39588  B1= 2.6410117  mse=6472.376715\n",
      "Iteration # 999962 B0= 441.39589  B1= 2.6410116  mse=6472.376695\n",
      "Iteration # 999963 B0= 441.3959   B1= 2.6410115  mse=6472.376675\n",
      "Iteration # 999964 B0= 441.39592  B1= 2.6410114  mse=6472.376655\n",
      "Iteration # 999965 B0= 441.39593  B1= 2.6410113  mse=6472.376635\n",
      "Iteration # 999966 B0= 441.39595  B1= 2.6410112  mse=6472.376615\n",
      "Iteration # 999967 B0= 441.39596  B1= 2.6410111  mse=6472.376595\n",
      "Iteration # 999968 B0= 441.39597  B1= 2.641011   mse=6472.376575\n",
      "Iteration # 999969 B0= 441.39599  B1= 2.6410109  mse=6472.376556\n",
      "Iteration # 999970 B0= 441.396    B1= 2.6410108  mse=6472.376536\n",
      "Iteration # 999971 B0= 441.39602  B1= 2.6410107  mse=6472.376516\n",
      "Iteration # 999972 B0= 441.39603  B1= 2.6410106  mse=6472.376496\n",
      "Iteration # 999973 B0= 441.39605  B1= 2.6410105  mse=6472.376476\n",
      "Iteration # 999974 B0= 441.39606  B1= 2.6410104  mse=6472.376456\n",
      "Iteration # 999975 B0= 441.39607  B1= 2.6410103  mse=6472.376436\n",
      "Iteration # 999976 B0= 441.39609  B1= 2.6410102  mse=6472.376416\n",
      "Iteration # 999977 B0= 441.3961   B1= 2.64101    mse=6472.376396\n",
      "Iteration # 999978 B0= 441.39612  B1= 2.6410099  mse=6472.376376\n",
      "Iteration # 999979 B0= 441.39613  B1= 2.6410098  mse=6472.376356\n",
      "Iteration # 999980 B0= 441.39614  B1= 2.6410097  mse=6472.376337\n",
      "Iteration # 999981 B0= 441.39616  B1= 2.6410096  mse=6472.376317\n",
      "Iteration # 999982 B0= 441.39617  B1= 2.6410095  mse=6472.376297\n",
      "Iteration # 999983 B0= 441.39619  B1= 2.6410094  mse=6472.376277\n",
      "Iteration # 999984 B0= 441.3962   B1= 2.6410093  mse=6472.376257\n",
      "Iteration # 999985 B0= 441.39621  B1= 2.6410092  mse=6472.376237\n",
      "Iteration # 999986 B0= 441.39623  B1= 2.6410091  mse=6472.376217\n",
      "Iteration # 999987 B0= 441.39624  B1= 2.641009   mse=6472.376197\n",
      "Iteration # 999988 B0= 441.39626  B1= 2.6410089  mse=6472.376177\n",
      "Iteration # 999989 B0= 441.39627  B1= 2.6410088  mse=6472.376157\n",
      "Iteration # 999990 B0= 441.39629  B1= 2.6410087  mse=6472.376137\n",
      "Iteration # 999991 B0= 441.3963   B1= 2.6410086  mse=6472.376118\n",
      "Iteration # 999992 B0= 441.39631  B1= 2.6410085  mse=6472.376098\n",
      "Iteration # 999993 B0= 441.39633  B1= 2.6410084  mse=6472.376078\n",
      "Iteration # 999994 B0= 441.39634  B1= 2.6410083  mse=6472.376058\n",
      "Iteration # 999995 B0= 441.39636  B1= 2.6410082  mse=6472.376038\n",
      "Iteration # 999996 B0= 441.39637  B1= 2.6410081  mse=6472.376018\n",
      "Iteration # 999997 B0= 441.39638  B1= 2.641008   mse=6472.375998\n",
      "Iteration # 999998 B0= 441.3964   B1= 2.6410079  mse=6472.375978\n",
      "Iteration # 999999 B0= 441.39641  B1= 2.6410078  mse=6472.375958\n"
     ]
    }
   ],
   "source": [
    "def mse_(B0, B1):\n",
    "    return np.sum((B0 + B1*X - y)**2)/n\n",
    "\n",
    "alp = 1e-5\n",
    "B0 = 0.1\n",
    "B1 = 0.1\n",
    "k = 1000000\n",
    "for i in range(k):\n",
    "    if i < 50:\n",
    "        print(f'Iteration # {i:<5} B0= {B0:<10.8} B1= {B1:<10.8} mse={mse_(B0, B1):5.10}')\n",
    "    B0 -= alp * (2/n) * np.sum(B0 + B1*X - y)\n",
    "    B1 -= alp * (2/n) * np.sum((B0 + B1*X - y) * X)\n",
    "    if i > (k-50):\n",
    "        print(f'Iteration # {i:<5} B0= {B0:<10.8} B1= {B1:<10.8} mse={mse_(B0, B1):5.10}')"
   ]
  }
 ],
 "metadata": {
  "kernelspec": {
   "display_name": "Python 3",
   "language": "python",
   "name": "python3"
  },
  "language_info": {
   "codemirror_mode": {
    "name": "ipython",
    "version": 3
   },
   "file_extension": ".py",
   "mimetype": "text/x-python",
   "name": "python",
   "nbconvert_exporter": "python",
   "pygments_lexer": "ipython3",
   "version": "3.7.1"
  }
 },
 "nbformat": 4,
 "nbformat_minor": 2
}
