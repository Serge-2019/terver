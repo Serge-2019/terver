{
 "cells": [
  {
   "cell_type": "code",
   "execution_count": 1,
   "metadata": {
    "colab": {},
    "colab_type": "code",
    "id": "Og2fZ_bgYo6r"
   },
   "outputs": [],
   "source": [
    "import numpy as np"
   ]
  },
  {
   "cell_type": "markdown",
   "metadata": {
    "colab_type": "text",
    "id": "vGvPz-PJYo5C"
   },
   "source": [
    "#### Провести дисперсионный анализ для определения того, есть ли различия среднего роста среди взрослых футболистов, хоккеистов и штангистов. Даны значения роста в трех группах случайно выбранных спортсменов: Футболисты: 173, 175, 180, 178, 177, 185, 183, 182. Хоккеисты: 177, 179, 180, 188, 177, 172, 171, 184, 180. Штангисты: 172, 173, 169, 177, 166, 180, 178, 177, 172, 166, 170."
   ]
  },
  {
   "cell_type": "code",
   "execution_count": 2,
   "metadata": {},
   "outputs": [
    {
     "name": "stdout",
     "output_type": "stream",
     "text": [
      "Fh value = 5.50005\n"
     ]
    }
   ],
   "source": [
    "y1 = np.array([173, 175, 180, 178, 177, 185, 183, 182], dtype=np.float64) # футболисты\n",
    "y2 = np.array([177, 179, 180, 188, 177, 172, 171, 184, 180], dtype=np.float64) # хоккеисты\n",
    "y3 = np.array([172, 173, 169, 177, 166, 180, 178, 177, 172, 166, 170], dtype=np.float64) # штангисты\n",
    "\n",
    "n1 = len(y1)\n",
    "n2 = len(y2)\n",
    "n3 = len(y3)\n",
    "\n",
    "n = n1 + n2 + n3 # общее количество\n",
    "k = 3 # количество груп\n",
    "\n",
    "# среднее по каждой группе индивидуально\n",
    "y1m = np.mean(y1) \n",
    "y2m = np.mean(y2)\n",
    "y3m = np.mean(y3)\n",
    "\n",
    "# сумма и среднее по всем значениям\n",
    "Y = np.concatenate([y1, y2, y3]) \n",
    "Ym = np.mean(Y)\n",
    "\n",
    "# сумма квадратов отклонений наблюдений от общего среднего\n",
    "S2 = np.sum((Y - Ym)**2)\n",
    "\n",
    "# сумма квадратов отклонений средних групповых значений от общего среднего\n",
    "S2f = ((y1m - Ym)**2) * n1 + ((y2m - Ym)**2) * n2 + ((y3m - Ym)**2) * n3\n",
    "\n",
    "# остаточная сумма квадратов отклонений\n",
    "S2r = np.sum((y1 - y1m)**2) + np.sum((y2 - y2m)**2) + np.sum((y3 - y3m)**2)\n",
    "\n",
    "Dg = S2 / (n-1) # общая дисперсия\n",
    "Df = S2f / (k-1) # факторная дисперсия\n",
    "Dr = S2r / (n-k) # остаточная дисперсия\n",
    "\n",
    "\n",
    "Fh = Df / Dr\n",
    "print(f'Fh value = {Fh:0.6}')"
   ]
  },
  {
   "cell_type": "markdown",
   "metadata": {
    "colab_type": "text",
    "id": "7pw0jHLlYo9-"
   },
   "source": [
    "Найдем значение $F_{крит}$ в таблице критических точек распределения Фишера-Снедекора для заданного уровня значимости $\\alpha = 0.05$ и двух степеней свободы: \n",
    "\n",
    "$df_{межд} = k - 1 = 3 - 1 = 2$\n",
    "\n",
    "$df_{внутр} = n - k = 28 - 3 = 25$"
   ]
  },
  {
   "cell_type": "markdown",
   "metadata": {
    "colab_type": "text",
    "id": "WPLuwwbyYo9_"
   },
   "source": [
    "Для данных значений $F_{крит} = 3,38$. Так как $F_H > F_{крит}$, различие среднего роста в трех группах **статистически значимо**."
   ]
  },
  {
   "cell_type": "code",
   "execution_count": 3,
   "metadata": {
    "colab": {},
    "colab_type": "code",
    "id": "jb2skTGMYo-D",
    "outputId": "5c0b396c-1bea-469f-e552-1a5ea31cf6ff",
    "scrolled": true
   },
   "outputs": [
    {
     "name": "stdout",
     "output_type": "stream",
     "text": [
      "Эмпирическое корреляционное отношение  𝜂2 = 0.30556\n"
     ]
    }
   ],
   "source": [
    "print(f'Эмпирическое корреляционное отношение  𝜂2 = {S2f/S2:0.5}')"
   ]
  }
 ],
 "metadata": {
  "colab": {
   "collapsed_sections": [],
   "name": "Матстат - Урок 8.ipynb",
   "provenance": [],
   "version": "0.3.2"
  },
  "kernelspec": {
   "display_name": "Python 3",
   "language": "python",
   "name": "python3"
  },
  "language_info": {
   "codemirror_mode": {
    "name": "ipython",
    "version": 3
   },
   "file_extension": ".py",
   "mimetype": "text/x-python",
   "name": "python",
   "nbconvert_exporter": "python",
   "pygments_lexer": "ipython3",
   "version": "3.7.1"
  }
 },
 "nbformat": 4,
 "nbformat_minor": 1
}
